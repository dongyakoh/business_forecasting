{
 "cells": [
  {
   "cell_type": "markdown",
   "metadata": {
    "slideshow": {
     "slide_type": "slide"
    }
   },
   "source": [
    "# About Python\n",
    "\n",
    "- [Overview](#Overview)  \n",
    "- [What’s Python?](#What’s-Python?)\n",
    "- [Scientific Programming](#Scientific-Programming)  \n",
    "- [Statistics](#Statistics)\n",
    "- [Cloud Computing](#Cloud-Computing)\n",
    "- [Parallel Processing](#Parallel-Processing)\n",
    "- [Other Developments](#Other-Developments)\n",
    "- [Learn More](#Learn-More)  "
   ]
  },
  {
   "cell_type": "markdown",
   "metadata": {
    "slideshow": {
     "slide_type": "slide"
    }
   },
   "source": [
    "## Overview\n",
    "\n",
    "In this lecture we will\n",
    "\n",
    "- outline what Python is  \n",
    "- compare it to some other languages  \n",
    "- showcase some of its abilities.  \n",
    "\n",
    "\n",
    "At this stage, it’s **not** our intention that you try to replicate all you see.\n",
    "\n",
    "We will work through what follows at a slow pace later in the lecture series.\n",
    "\n",
    "Our only objective for this lecture is to give you some feel of what Python is, and what it can do."
   ]
  },
  {
   "cell_type": "markdown",
   "metadata": {
    "slideshow": {
     "slide_type": "slide"
    }
   },
   "source": [
    "## What’s Python?\n",
    "\n",
    "[Python](https://www.python.org) is a general-purpose programming language conceived in 1989 by Dutch programmer [Guido van Rossum](https://en.wikipedia.org/wiki/Guido_van_Rossum).\n",
    "\n",
    "Python is free and open source, with development coordinated through the [Python Software Foundation](https://www.python.org/psf/).\n",
    "\n",
    "Python has experienced rapid adoption in the last decade and is now one of the most popular programming languages."
   ]
  },
  {
   "cell_type": "markdown",
   "metadata": {
    "slideshow": {
     "slide_type": "subslide"
    }
   },
   "source": [
    "### Common Uses\n",
    "\n",
    "Python is a general-purpose language used in almost all application domains such as\n",
    "\n",
    "- communications  \n",
    "- web development  \n",
    "- CGI and graphical user interfaces  \n",
    "- game development  \n",
    "- resource planning  \n",
    "- multimedia, data science, security, etc., etc., etc.  \n",
    "\n",
    "\n",
    "Used and supported extensively by Internet services and high-tech companies including\n",
    "\n",
    "- [Google](https://www.google.com/)  \n",
    "- [Netflix](https://www.netflix.com/)  \n",
    "- [Meta](https://opensource.fb.com/)  \n",
    "- [Dropbox](https://www.dropbox.com/)  \n",
    "- [Amazon](https://www.amazon.com/)  \n",
    "- [Reddit](https://www.reddit.com/)  "
   ]
  },
  {
   "cell_type": "markdown",
   "metadata": {
    "slideshow": {
     "slide_type": "subslide"
    }
   },
   "source": [
    "For reasons we will discuss, Python is particularly popular within the scientific community and behind many scientific achievements in\n",
    "\n",
    "- [Space Science](https://code.nasa.gov/?q=python)  \n",
    "- [Particle Physics](https://home.cern/news/news/physics/speeding-machine-learning-particle-physics)  \n",
    "- [Genetics](https://github.com/deepmind/alphafold)  \n",
    "\n",
    "\n",
    "and practically all branches of academia.\n",
    "\n",
    "Meanwhile, Python is also very beginner-friendly and is found to be suitable for students learning programming and recommended to introduce computational methods to students in [fields other than computer science](https://www.sciencedirect.com/science/article/pii/S1477388021000177).\n",
    "\n",
    "Python is also [replacing familiar tools like Excel as an essential skill](https://www.efinancialcareers.com.au/news/2021/08/python-for-banking-jobs) in the fields of finance and banking."
   ]
  },
  {
   "cell_type": "markdown",
   "metadata": {
    "slideshow": {
     "slide_type": "subslide"
    }
   },
   "source": [
    "### Relative Popularity\n",
    "\n",
    "The following chart, produced using Stack Overflow Trends, shows one measure of the relative popularity of Python\n",
    "\n",
    "![https://python-programming.quantecon.org/_static/lecture_specific/about_py/python_vs_matlab.png](https://python-programming.quantecon.org/_static/lecture_specific/about_py/python_vs_matlab.png)"
   ]
  },
  {
   "cell_type": "markdown",
   "metadata": {
    "slideshow": {
     "slide_type": "subslide"
    }
   },
   "source": [
    "The figure indicates not only that Python is widely used but also that adoption of Python has accelerated significantly since 2012.\n",
    "\n",
    "We suspect this is driven at least in part by uptake in the scientific\n",
    "domain, particularly in rapidly growing fields like data science.\n",
    "\n",
    "For example, the popularity of [pandas](http://pandas.pydata.org/), a library for data analysis with Python has exploded, as seen here.\n",
    "\n",
    "(The corresponding time path for MATLAB is shown for comparison)\n",
    "\n",
    "![https://python-programming.quantecon.org/_static/lecture_specific/about_py/pandas_vs_matlab.png](https://python-programming.quantecon.org/_static/lecture_specific/about_py/pandas_vs_matlab.png)"
   ]
  },
  {
   "cell_type": "markdown",
   "metadata": {
    "slideshow": {
     "slide_type": "subslide"
    }
   },
   "source": [
    "Note that pandas takes off in 2012, which is the same year that we see\n",
    "Python’s popularity begin to spike in the first figure.\n",
    "\n",
    "Overall, it’s clear that\n",
    "\n",
    "- Python is [one of the most popular programming languages worldwide](https://spectrum.ieee.org/top-programming-languages-2021).  \n",
    "- Python is a major tool for scientific computing, accounting for a rapidly rising share of scientific work around the globe.  "
   ]
  },
  {
   "cell_type": "markdown",
   "metadata": {
    "slideshow": {
     "slide_type": "subslide"
    }
   },
   "source": [
    "### Features\n",
    "\n",
    "Python is a [high-level language](https://en.wikipedia.org/wiki/High-level_programming_language) suitable for rapid development.\n",
    "\n",
    "It has a relatively small core language supported by many libraries.\n",
    "\n",
    "Other features of Python:\n",
    "\n",
    "- multiple programming styles are supported (procedural, object-oriented, functional, etc.)  \n",
    "- it is interpreted rather than compiled.  "
   ]
  },
  {
   "cell_type": "markdown",
   "metadata": {
    "slideshow": {
     "slide_type": "subslide"
    }
   },
   "source": [
    "### Syntax and Design\n",
    "\n",
    "\n",
    "<a id='index-2'></a>\n",
    "One nice feature of Python is its elegant syntax — we’ll see many examples later on.\n",
    "\n",
    "Elegant code might sound superfluous but in fact it’s highly beneficial because it makes the syntax easy to read and easy to remember.\n",
    "\n",
    "Remembering how to read from files, sort dictionaries and other such routine tasks means that you don’t need to break your flow in order to hunt down correct syntax.\n",
    "\n",
    "Closely related to elegant syntax is an elegant design.\n",
    "\n",
    "Features like iterators, generators, decorators and list comprehensions make Python highly expressive, allowing you to get more done with less code.\n",
    "\n",
    "[Namespaces](https://en.wikipedia.org/wiki/Namespace) improve productivity by cutting down on bugs and syntax errors."
   ]
  },
  {
   "cell_type": "markdown",
   "metadata": {
    "slideshow": {
     "slide_type": "slide"
    }
   },
   "source": [
    "## Scientific Programming\n",
    "\n",
    "\n",
    "<a id='index-3'></a>\n",
    "Python has become one of the core languages of scientific computing.\n",
    "\n",
    "It’s either the dominant player or a major player in\n",
    "\n",
    "- [machine learning and data science](https://github.com/ml-tooling/best-of-ml-python)  \n",
    "- [astronomy](http://www.astropy.org/)  \n",
    "- [chemistry](http://chemlab.github.io/chemlab/)  \n",
    "- [computational biology](http://biopython.org/wiki/Main_Page)  \n",
    "- [meteorology](https://pypi.org/project/meteorology/)  \n",
    "- [natural language processing](https://www.nltk.org/)  \n",
    "\n",
    "\n",
    "Its popularity in economics is also beginning to rise.\n",
    "\n",
    "This section briefly showcases some examples of Python for scientific programming.\n",
    "\n",
    "- All of these topics below will be covered in detail later on.  "
   ]
  },
  {
   "cell_type": "markdown",
   "metadata": {
    "slideshow": {
     "slide_type": "subslide"
    }
   },
   "source": [
    "### Graphics\n",
    "\n",
    "\n",
    "<a id='index-5'></a>\n",
    "The most popular and comprehensive Python library for creating figures and graphs is [Matplotlib](http://matplotlib.org/), with functionality including\n",
    "\n",
    "- plots, histograms, contour images, 3D graphs, bar charts etc.  \n",
    "- output in many formats (PDF, PNG, EPS, etc.)  \n",
    "- LaTeX integration"
   ]
  },
  {
   "cell_type": "markdown",
   "metadata": {
    "slideshow": {
     "slide_type": "subslide"
    }
   },
   "source": [
    "Example 2D plot with embedded LaTeX annotations\n",
    "\n",
    "![https://python-programming.quantecon.org/_static/lecture_specific/about_py/qs.png](https://python-programming.quantecon.org/_static/lecture_specific/about_py/qs.png)"
   ]
  },
  {
   "cell_type": "markdown",
   "metadata": {
    "slideshow": {
     "slide_type": "subslide"
    }
   },
   "source": [
    "\n",
    "Example contour plot\n",
    "\n",
    "![https://python-programming.quantecon.org/_static/lecture_specific/about_py/bn_density1.png](https://python-programming.quantecon.org/_static/lecture_specific/about_py/bn_density1.png)"
   ]
  },
  {
   "cell_type": "markdown",
   "metadata": {
    "slideshow": {
     "slide_type": "subslide"
    }
   },
   "source": [
    "\n",
    "Example 3D plot\n",
    "\n",
    "![https://python-programming.quantecon.org/_static/lecture_specific/about_py/career_vf.png](https://python-programming.quantecon.org/_static/lecture_specific/about_py/career_vf.png)\n",
    "\n",
    "You can visit the [Python Graph Gallery](https://www.python-graph-gallery.com/) for more example plots drawn using a variety of libraries."
   ]
  },
  {
   "cell_type": "markdown",
   "metadata": {
    "slideshow": {
     "slide_type": "subslide"
    }
   },
   "source": [
    "### Symbolic Algebra\n",
    "\n",
    "It’s useful to be able to manipulate symbolic expressions, as in Mathematica or Maple.\n",
    "\n",
    "\n",
    "<a id='index-6'></a>\n",
    "The [SymPy](http://www.sympy.org/) library provides this functionality from within the Python shell."
   ]
  },
  {
   "cell_type": "code",
   "execution_count": 3,
   "metadata": {
    "hide-output": false,
    "slideshow": {
     "slide_type": "fragment"
    }
   },
   "outputs": [
    {
     "data": {
      "text/latex": [
       "$\\displaystyle 3 x + y$"
      ],
      "text/plain": [
       "3*x + y"
      ]
     },
     "execution_count": 3,
     "metadata": {},
     "output_type": "execute_result"
    }
   ],
   "source": [
    "from sympy import Symbol\n",
    "\n",
    "x, y = Symbol('x'), Symbol('y')  # Treat 'x' and 'y' as algebraic symbols\n",
    "x + x + x + y"
   ]
  },
  {
   "cell_type": "markdown",
   "metadata": {
    "slideshow": {
     "slide_type": "subslide"
    }
   },
   "source": [
    "We can manipulate expressions"
   ]
  },
  {
   "cell_type": "code",
   "execution_count": 4,
   "metadata": {
    "hide-output": false,
    "slideshow": {
     "slide_type": "fragment"
    }
   },
   "outputs": [
    {
     "data": {
      "text/latex": [
       "$\\displaystyle x^{2} + 2 x y + y^{2}$"
      ],
      "text/plain": [
       "x**2 + 2*x*y + y**2"
      ]
     },
     "execution_count": 4,
     "metadata": {},
     "output_type": "execute_result"
    }
   ],
   "source": [
    "expression = (x + y)**2\n",
    "expression.expand() "
   ]
  },
  {
   "cell_type": "markdown",
   "metadata": {
    "slideshow": {
     "slide_type": "subslide"
    }
   },
   "source": [
    "solve polynomials"
   ]
  },
  {
   "cell_type": "code",
   "execution_count": 6,
   "metadata": {
    "hide-output": false,
    "slideshow": {
     "slide_type": "fragment"
    }
   },
   "outputs": [
    {
     "data": {
      "text/plain": [
       "[2]"
      ]
     },
     "execution_count": 6,
     "metadata": {},
     "output_type": "execute_result"
    }
   ],
   "source": [
    "from sympy import solve\n",
    "\n",
    "#solve(x**2 + x + 2)\n",
    "solve(x - 2) "
   ]
  },
  {
   "cell_type": "markdown",
   "metadata": {
    "slideshow": {
     "slide_type": "slide"
    }
   },
   "source": [
    "## Statistics\n",
    "\n",
    "Python’s data manipulation and statistics libraries have improved rapidly over\n",
    "the last few years to tackle\n",
    "[specific problems in data science](https://ieeexplore.ieee.org/document/8757088).\n",
    "\n",
    "### Pandas\n",
    "\n",
    "\n",
    "<a id='index-7'></a>\n",
    "One of the most popular libraries for working with data is [pandas](http://pandas.pydata.org/).\n",
    "\n",
    "Pandas is fast, efficient, flexible and well designed.\n",
    "\n",
    "Here’s a simple example, using some dummy data generated with Numpy’s excellent\n",
    "`random` functionality."
   ]
  },
  {
   "cell_type": "code",
   "execution_count": 8,
   "metadata": {
    "hide-output": false,
    "slideshow": {
     "slide_type": "fragment"
    }
   },
   "outputs": [
    {
     "name": "stdout",
     "output_type": "stream",
     "text": [
      "               price    weight\n",
      "2010-12-28  0.471435 -1.190976\n",
      "2010-12-29  1.432707 -0.312652\n",
      "2010-12-30 -0.720589  0.887163\n",
      "2010-12-31  0.859588 -0.636524\n",
      "2011-01-01  0.015696 -2.242685\n"
     ]
    }
   ],
   "source": [
    "import pandas as pd\n",
    "import numpy as np\n",
    "np.random.seed(1234)\n",
    " \n",
    "data = np.random.randn(5, 2)  # 5x2 matrix of N(0, 1) random draws\n",
    "dates = pd.date_range('2010-12-28', periods=5)\n",
    "\n",
    "df = pd.DataFrame(data, columns=('price', 'weight'), index=dates)\n",
    "print(df)"
   ]
  },
  {
   "cell_type": "code",
   "execution_count": 9,
   "metadata": {
    "hide-output": false,
    "slideshow": {
     "slide_type": "fragment"
    }
   },
   "outputs": [
    {
     "data": {
      "text/plain": [
       "price     0.411768\n",
       "weight   -0.699135\n",
       "dtype: float64"
      ]
     },
     "execution_count": 9,
     "metadata": {},
     "output_type": "execute_result"
    }
   ],
   "source": [
    "df.mean()"
   ]
  },
  {
   "cell_type": "markdown",
   "metadata": {
    "slideshow": {
     "slide_type": "subslide"
    }
   },
   "source": [
    "#### Other Useful Statistics and Data Science Libraries\n",
    "\n",
    "\n",
    "<a id='index-8'></a>\n",
    "- [statsmodels](http://statsmodels.sourceforge.net/) — various statistical routines  \n",
    "\n",
    "\n",
    "\n",
    "<a id='index-9'></a>\n",
    "- [scikit-learn](http://scikit-learn.org/) — Machine Learning in Python  \n",
    "\n",
    "\n",
    "\n",
    "<a id='index-10'></a>\n",
    "- [PyTorch](https://pytorch.org/) — Deep learning framework in Python and other major competitors in the field including [TensorFlow](https://www.tensorflow.org/overview) and [Keras](https://keras.io/)  \n",
    "\n",
    "\n",
    "\n",
    "<a id='index-11'></a>\n",
    "- [Pyro](https://pyro.ai/) and [PyStan](https://pystan.readthedocs.org/en/latest/) — for Bayesian data analysis building on [Pytorch](https://pytorch.org/) and [stan](http://mc-stan.org/) respectively  \n",
    "\n",
    "\n",
    "\n",
    "<a id='index-12'></a>\n",
    "- [lifelines](https://lifelines.readthedocs.io/en/latest/) — for survival analysis  \n",
    "\n",
    "\n",
    "\n",
    "<a id='index-13'></a>\n",
    "- [GeoPandas](https://geopandas.org/en/stable/) — for spatial data analysis  "
   ]
  },
  {
   "cell_type": "markdown",
   "metadata": {
    "slideshow": {
     "slide_type": "slide"
    }
   },
   "source": [
    "## Cloud Computing\n",
    "\n",
    "\n",
    "<a id='index-15'></a>\n",
    "Running your Python code on massive servers in the cloud is becoming easier and easier.\n",
    "\n",
    "\n",
    "<a id='index-16'></a>\n",
    "An excellent example of the portability of python in a cloud computing environment is [Google Colab](https://colab.research.google.com/). It hosts the Jupyter notebook on cloud servers with no pre-configuration necessary to run Python code using cloud servers.\n",
    "\n",
    "There are also commercial applications of cloud computing using Python:\n",
    "\n",
    "\n",
    "<a id='index-17'></a>\n",
    "- [Anaconda Enterprise](https://www.anaconda.com/enterprise/)  \n",
    "\n",
    "\n",
    "\n",
    "<a id='index-18'></a>\n",
    "- [Amazon Web Services](https://aws.amazon.com/developer/language/python/?nc1=f_dr)  \n",
    "\n",
    "\n",
    "\n",
    "<a id='index-19'></a>\n",
    "- [Google Cloud](https://cloud.google.com/)  \n",
    "\n",
    "\n",
    "\n",
    "<a id='index-20'></a>\n",
    "- [Digital Ocean](https://www.digitalocean.com/)  "
   ]
  },
  {
   "cell_type": "markdown",
   "metadata": {
    "slideshow": {
     "slide_type": "slide"
    }
   },
   "source": [
    "## Parallel Processing\n",
    "\n",
    "\n",
    "<a id='index-21'></a>\n",
    "Apart from the cloud computing options listed above, you might like to consider\n",
    "\n",
    "\n",
    "<a id='index-22'></a>\n",
    "- [Parallel computing through IPython clusters](https://ipyparallel.readthedocs.io/en/latest/).  \n",
    "\n",
    "\n",
    "\n",
    "<a id='index-23'></a>\n",
    "- [Dask](https://www.dask.org/) parallelises PyData and Machine Learning in Python.  \n",
    "\n",
    "\n",
    "\n",
    "<a id='index-24'></a>\n",
    "- GPU programming through [JAX](https://jax.readthedocs.io/en/latest/notebooks/quickstart.html), [PyCuda](https://wiki.tiker.net/PyCuda), [PyOpenCL](https://documen.tician.de/pyopencl/), [Rapids](https://rapids.ai/), etc.  \n",
    "\n",
    "\n",
    "Here is more about [recent developments](https://pasc22.pasc-conference.org/program/papers/) in high-performance computing (HPC) in scientific computing and [how HPC helps researchers in different fields](https://pasc22.pasc-conference.org/program/keynote-presentations/).\n",
    "\n",
    "\n",
    "<a id='intfc'></a>"
   ]
  },
  {
   "cell_type": "markdown",
   "metadata": {
    "slideshow": {
     "slide_type": "slide"
    }
   },
   "source": [
    "## Other Developments\n",
    "\n",
    "There are many other interesting developments with scientific programming in Python.\n",
    "\n",
    "Some representative examples include\n",
    "\n",
    "\n",
    "<a id='index-25'></a>\n",
    "- [Jupyter](http://jupyter.org/) — Python in your browser with interactive code cells,  embedded images and other useful features.  \n",
    "\n",
    "\n",
    "\n",
    "<a id='index-26'></a>\n",
    "- [Numba](http://numba.pydata.org/) — make Python run at the same speed as native machine code!  \n",
    "\n",
    "\n",
    "\n",
    "<a id='index-27'></a>\n",
    "- [CVXPY](https://www.cvxpy.org/) — convex optimization in Python.  \n",
    "\n",
    "\n",
    "\n",
    "<a id='index-28'></a>\n",
    "- [PyTables](http://www.pytables.org) — manage large data sets.  \n",
    "\n",
    "\n",
    "\n",
    "<a id='index-29'></a>\n",
    "- [scikit-image](https://scikit-image.org/) and [OpenCV](https://opencv.org/) — process and analyse scientific image data.  \n",
    "\n",
    "\n",
    "\n",
    "<a id='index-30'></a>\n",
    "- [FLAML](https://mlflow.org/docs/latest/index.html) — automate machine learning and hyperparameter tuning.  \n",
    "\n",
    "\n",
    "\n",
    "<a id='index-31'></a>\n",
    "- [BeautifulSoup](https://www.crummy.com/software/BeautifulSoup/bs4/doc/) — extract data from HTML and XML files.  \n",
    "\n",
    "\n",
    "\n",
    "<a id='index-32'></a>\n",
    "- [PyInstaller](https://pyinstaller.org/en/stable/) — create packaged app from python script.  "
   ]
  },
  {
   "cell_type": "markdown",
   "metadata": {
    "slideshow": {
     "slide_type": "slide"
    }
   },
   "source": [
    "## Learn More\n",
    "\n",
    "- Browse some Python projects on [GitHub](https://github.com/trending?l=python).  \n",
    "- Read more about [Python’s history and rise in popularity](https://www.welcometothejungle.com/en/articles/btc-python-popular) and [version history](https://www.python.org/doc/versions/).  \n",
    "- Have a look at [some of the Jupyter notebooks](http://nbviewer.jupyter.org/) people have shared on various scientific topics.  \n",
    "\n",
    "\n",
    "\n",
    "<a id='index-33'></a>\n",
    "- Visit the [Python Package Index](https://pypi.org/).  \n",
    "- View some of the questions people are asking about Python on [Stackoverflow](http://stackoverflow.com/questions/tagged/python).  \n",
    "- Keep up to date on what’s happening in the Python community with the [Python subreddit](https://www.reddit.com:443/r/Python/).  "
   ]
  }
 ],
 "metadata": {
  "celltoolbar": "Slideshow",
  "filename": "about_py.rst",
  "kernelspec": {
   "display_name": "Python 3 (ipykernel)",
   "language": "python",
   "name": "python3"
  },
  "language_info": {
   "codemirror_mode": {
    "name": "ipython",
    "version": 3
   },
   "file_extension": ".py",
   "mimetype": "text/x-python",
   "name": "python",
   "nbconvert_exporter": "python",
   "pygments_lexer": "ipython3",
   "version": "3.7.4"
  },
  "rise": {
   "enable_chalkboard": true,
   "header": "<h3><b>ECON4753 Forecasting</b></h3>",
   "height": "100%",
   "width": "100%"
  },
  "title": "About Python"
 },
 "nbformat": 4,
 "nbformat_minor": 2
}
