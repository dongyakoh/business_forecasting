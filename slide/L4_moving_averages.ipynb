{
 "cells": [
  {
   "cell_type": "markdown",
   "id": "bc5ab4f8",
   "metadata": {
    "slideshow": {
     "slide_type": "slide"
    }
   },
   "source": [
    "# Moving Averages and Smoothing Methods (1)\n",
    "\n",
    "*(Hanke & Wichern \"Business Forecasting\" Ch.3)*\n",
    "\n",
    "\n",
    "We learn three simple methods to forecasting a time series:\n",
    "1. *Naive method*: a simple model that assumes that very recent data provide the best predictors of the future\n",
    "1. *Averaging method*: forecasts based on an average of past observations\n",
    "1. *Smoothing method*: forecasts by averaging past values of a series with a decreasing (exponential) series of weights"
   ]
  },
  {
   "cell_type": "markdown",
   "id": "d1a2c015",
   "metadata": {
    "slideshow": {
     "slide_type": "subslide"
    }
   },
   "source": [
    "## A procedure for forecasting"
   ]
  },
  {
   "cell_type": "markdown",
   "id": "be1327ed",
   "metadata": {
    "slideshow": {
     "slide_type": "fragment"
    }
   },
   "source": [
    "Step 1. A method is selected based on the forecaster's <u>analysis of and intuition about the nature of the data.</u>\n",
    "\n",
    "Step 2. The data set is divided into two sections --- <u>a fitting section and a test section.</u>\n",
    "\n",
    "Step 3. The selected technique is used to develop fitted values.\n",
    "\n",
    "Step 4. The technique is used to forecast the test part of the data.\n",
    "\n",
    "Step 5. The forecasting error is determined and evaluated.\n",
    "\n",
    "Step 6. A decision is made."
   ]
  },
  {
   "cell_type": "markdown",
   "id": "d5d17e4e",
   "metadata": {
    "slideshow": {
     "slide_type": "fragment"
    }
   },
   "source": [
    "Past data | You are here ($t$) | Periods to be forecast\n",
    ":-----:|:-----:|:-----:\n",
    "$\\ldots$, $Y_{t-3}$, $Y_{t-2}$, $Y_{t-1}$ | $Y_t$ | $\\hat{Y}_{t+1}$, $\\hat{Y}_{t+2}$, $\\hat{Y}_{t+3}$, $\\ldots$"
   ]
  },
  {
   "cell_type": "markdown",
   "id": "eb029609",
   "metadata": {
    "slideshow": {
     "slide_type": "subslide"
    }
   },
   "source": [
    "## Naive Models\n",
    "\n",
    "Naive forecasts assume that recent periods are the best predictors of the future:\n",
    "\n",
    "\\begin{equation}\n",
    "\\hat{Y}_{t+1} = Y_t \\tag{1}\n",
    "\\end{equation}\n",
    "\n",
    "**Properties:**\n",
    "- One hundred percent of the weight is given to the current value of he series.\n",
    "- The naive forecast is sometimes called the \"no change\" forecast.\n",
    "- Since the naive forecast discards all other observations, this scheme tracks changes very rapidly.\n",
    "\n",
    "**<font color='red'>Under what context, would this method be a good technique for forecasting?</font>**"
   ]
  },
  {
   "cell_type": "code",
   "execution_count": null,
   "id": "1d578250",
   "metadata": {
    "scrolled": true,
    "slideshow": {
     "slide_type": "fragment"
    }
   },
   "outputs": [],
   "source": [
    "import pandas as pd\n",
    "import matplotlib.pyplot as plt\n",
    "df = pd.read_csv('https://raw.githubusercontent.com/dongyakoh/business_forecasting/main/data/sales_of_saws.csv')\n",
    "plt.plot(df['sales'])\n",
    "plt.show()"
   ]
  },
  {
   "cell_type": "markdown",
   "id": "21f633e4",
   "metadata": {
    "slideshow": {
     "slide_type": "fragment"
    }
   },
   "source": [
    "Let's use the data up to the 4th quarter of 2005 as a fitting section and forecast the first quarter of 2006.\n",
    "That is, $\\hat{Y}_{24} = Y_{23}$."
   ]
  },
  {
   "cell_type": "code",
   "execution_count": null,
   "id": "998ab05a",
   "metadata": {
    "slideshow": {
     "slide_type": "fragment"
    }
   },
   "outputs": [],
   "source": [
    "# Naive method\n",
    "df['naive'] = df.sales.shift(1)\n",
    "df['e_naive'] = df['sales'] - df['naive']\n",
    "plt.plot(df.loc[df.index[:24],'sales'],'k-',label='data')\n",
    "plt.plot(df.loc[df.index[23:25],'sales'],'k--',label='data')\n",
    "plt.plot(df.loc[df.index[:25],'naive'],color='red',label='naive')\n",
    "plt.legend()\n",
    "plt.show()\n",
    "df[24:]"
   ]
  },
  {
   "cell_type": "markdown",
   "id": "853bdee4",
   "metadata": {
    "slideshow": {
     "slide_type": "fragment"
    }
   },
   "source": [
    "The forecasting error of the first quarter of 2006 is calculated as\n",
    "\n",
    "$e_{24}$ = $Y_{24}$ - $\\hat{Y}_{24}$ = 850 - 650 = 200\n",
    "\n",
    "In the same manner, you can forecast the second to fourth quarters of 2006 and compute the forecast errors."
   ]
  },
  {
   "cell_type": "markdown",
   "id": "e7049fcc",
   "metadata": {
    "slideshow": {
     "slide_type": "subslide"
    }
   },
   "source": [
    "Visual inspection of the data shows that the data has a trend and seasonal patterns. If the naive method is used, the projections will be consistently low. \n",
    "\n",
    "We can modify the naive method by taking trend into consideration and add the difference between this period and the last period.\n",
    "\n",
    "\\begin{equation}\n",
    "\\hat{Y}_{t+1} = Y_t + (Y_t - Y_{t-1}) \\tag{2}\n",
    "\\end{equation}\n",
    "\n",
    "where the difference on the right-hand side takes into account the amount of change that occurred between quarters."
   ]
  },
  {
   "cell_type": "code",
   "execution_count": null,
   "id": "8e1b8ab5",
   "metadata": {
    "slideshow": {
     "slide_type": "fragment"
    }
   },
   "outputs": [],
   "source": [
    "# Modified naive model\n",
    "df['naive2'] = df.sales.shift(1) + (df.sales.shift(1) - df.sales.shift(2))\n",
    "df['e_naive2'] = df['sales'] - df['naive2']\n",
    "plt.plot(df.loc[df.index[:24],'sales'],'k-',label='data')\n",
    "plt.plot(df.loc[df.index[23:25],'sales'],'k--',label='data')\n",
    "plt.plot(df.loc[df.index[:25],'naive2'],color='red',label='naive')\n",
    "plt.legend()\n",
    "plt.show()\n",
    "df[24:]"
   ]
  },
  {
   "cell_type": "markdown",
   "id": "66ce1b84",
   "metadata": {
    "slideshow": {
     "slide_type": "fragment"
    }
   },
   "source": [
    "The forecast error with the modified naive method is calculated to be\n",
    "\n",
    "$e_{24}$ = $Y_{24}$ - $\\hat{Y}_{24}$ = 850 - 900 = -50\n",
    "\n",
    "which yields a smaller forecasting error than before."
   ]
  },
  {
   "cell_type": "markdown",
   "id": "9d0f0385",
   "metadata": {
    "slideshow": {
     "slide_type": "subslide"
    }
   },
   "source": [
    "For some purposes, the rate of change might be more appropriate than the amount of change.\n",
    "\n",
    "\\begin{equation}\n",
    "\\hat{Y}_{t+1} = Y_t \\frac{Y_t}{Y_{t-1}} \\tag{3}\n",
    "\\end{equation}"
   ]
  },
  {
   "cell_type": "code",
   "execution_count": null,
   "id": "72424462",
   "metadata": {
    "slideshow": {
     "slide_type": "fragment"
    }
   },
   "outputs": [],
   "source": [
    "# Another modified naive model\n",
    "df['naive3'] = df.sales.shift(1) * (df.sales.shift(1) / df.sales.shift(2))\n",
    "df['e_naive3'] = df['sales'] - df['naive3']\n",
    "plt.plot(df.loc[df.index[:24],'sales'],'k-',label='data')\n",
    "plt.plot(df.loc[df.index[23:25],'sales'],'k--',label='data')\n",
    "plt.plot(df.loc[df.index[:25],'naive3'],color='red',label='naive')\n",
    "plt.legend()\n",
    "plt.show()\n",
    "df[24:]"
   ]
  },
  {
   "cell_type": "markdown",
   "id": "4140c578",
   "metadata": {
    "slideshow": {
     "slide_type": "subslide"
    }
   },
   "source": [
    "Visual inspection of the data indicates that seasonal variation seems to exist. Sales in the first and fourth quarters are typically larger than those in the second and third quarters. Then, an appropriate modification of naive model should be\n",
    "\n",
    "\\begin{equation}\n",
    "\\hat{Y}_{t+1} = Y_{t-3} \\tag{4}\n",
    "\\end{equation}\n",
    "\n",
    "This equation says that the next quarter's forecast will take the same value as the corresponding quarter a year ago."
   ]
  },
  {
   "cell_type": "code",
   "execution_count": null,
   "id": "bc0a95e6",
   "metadata": {
    "slideshow": {
     "slide_type": "fragment"
    }
   },
   "outputs": [],
   "source": [
    "# Naive method with seasonal pattern\n",
    "df['naive4'] = df.sales.shift(4)\n",
    "df['e_naive4'] = df['sales'] - df['naive4']\n",
    "plt.plot(df.loc[df.index[:24],'sales'],'k-',label='data')\n",
    "plt.plot(df.loc[df.index[23:25],'sales'],'k--',label='data')\n",
    "plt.plot(df.loc[df.index[:25],'naive4'],color='red',label='naive')\n",
    "plt.legend()\n",
    "plt.show()\n",
    "df[24:]"
   ]
  },
  {
   "cell_type": "markdown",
   "id": "5de0408d",
   "metadata": {
    "slideshow": {
     "slide_type": "subslide"
    }
   },
   "source": [
    "The major weakness of the previous approach is that it ignores any trend. We can add trend estimates to the previous approach:\n",
    "\n",
    "\\begin{equation}\n",
    "\\hat{Y}_{t+1} = Y_{t-3} + \\frac{Y_t - Y_{t-4}}{4} \\tag{5}\n",
    "\\end{equation}\n"
   ]
  },
  {
   "cell_type": "code",
   "execution_count": null,
   "id": "76f41300",
   "metadata": {
    "scrolled": true,
    "slideshow": {
     "slide_type": "fragment"
    }
   },
   "outputs": [],
   "source": [
    "# Naive method with seasonal pattern and trend\n",
    "df['naive5'] = df.sales.shift(4) + (df.sales.shift(1)-df.sales.shift(5))/4\n",
    "df['e_naive5'] = df.sales - df.naive5\n",
    "plt.plot(df.loc[df.index[:24],'sales'],'k-',label='data')\n",
    "plt.plot(df.loc[df.index[23:25],'sales'],'k--',label='data')\n",
    "plt.plot(df.loc[df.index[:25],'naive5'],color='red',label='naive')\n",
    "plt.legend()\n",
    "plt.show()\n",
    "df[24:]"
   ]
  },
  {
   "cell_type": "markdown",
   "id": "f1dfb3bd",
   "metadata": {
    "slideshow": {
     "slide_type": "subslide"
    }
   },
   "source": [
    "## Averaging Methods\n",
    "\n",
    "The naive methods may not be appropriate if the past values represent random departures from some underlying structure. Therefore, managers are likely to use an averaging or smoothing technique to identify the structure. These types of technique use a form of weighted average of past observations."
   ]
  },
  {
   "cell_type": "markdown",
   "id": "2908814c",
   "metadata": {
    "slideshow": {
     "slide_type": "fragment"
    }
   },
   "source": [
    "### Simple Averages\n",
    "\n",
    "We can smooth historical data in many ways. One simple smoothing technique is to average the past values (the initialization part of the data) and forecast the future values:\n",
    "\n",
    "\\begin{equation}\n",
    "\\hat{Y}_{t+1} = \\frac{1}{t} \\sum^{t}_{i=1} Y_{i} \\tag{6}\n",
    "\\end{equation}\n",
    "\n",
    "When a new observation becomes available, $\\hat{Y}_{t+2}$ can be calculated from the forecast value, $\\hat{Y}_{t+1}$, and the new observation, $Y_{t+1}$:\n",
    "\n",
    "\\begin{equation}\n",
    "\\hat{Y}_{t+2} = \\frac{1}{t+1} \\sum^{t+1}_{i=1} Y_{i} = \\frac{1}{t+1} (Y_{t+1} + \\sum^{t}_{i=1} Y_{i}) = \\frac{t}{t+1} \\left( \\frac{1}{t}Y_{t+1} + \\frac{1}{t} \\sum^{t}_{i=1} Y_{i}\\right) = \\frac{Y_{t+1} + t\\hat{Y}_{t+1}}{t+1}\n",
    "\\end{equation}\n",
    "\n",
    "<font color='red'>In what data patterns, is this technique appropriate to be used?</font>"
   ]
  },
  {
   "cell_type": "code",
   "execution_count": null,
   "id": "f01bae17",
   "metadata": {
    "scrolled": true,
    "slideshow": {
     "slide_type": "fragment"
    }
   },
   "outputs": [],
   "source": [
    "import pandas as pd\n",
    "import matplotlib.pyplot as plt\n",
    "gas = pd.read_csv('https://raw.githubusercontent.com/dongyakoh/business_forecasting/main/data/gasoline_sale.csv')\n",
    "plt.plot(gas['sales'])\n",
    "plt.show()"
   ]
  },
  {
   "cell_type": "code",
   "execution_count": null,
   "id": "456dbc78",
   "metadata": {
    "slideshow": {
     "slide_type": "fragment"
    }
   },
   "outputs": [],
   "source": [
    "# Simple Averages\n",
    "t,i = 28,27  # current week, python index\n",
    "gas['sa'] = gas.sales[:t].mean() # Forecast week 29, index 28\n",
    "gas.loc[i+2,'sa']  = (gas.sales[i+1] + t*gas.loc[i+1,'sa'])/(t+1)  # Forecast week 30, index 29\n",
    "gas['e_sa']  = gas.sales - gas.sa\n",
    "plt.plot(gas.loc[gas.index[:28],'sales'],'k-',label='init section')\n",
    "plt.plot(gas.loc[gas.index[27:30],'sales'],'k--',label='test section')\n",
    "plt.plot(gas.loc[gas.index[:29],'sa'],color='red',label='simple averages')\n",
    "plt.legend()\n",
    "plt.show()\n",
    "gas[28:]"
   ]
  },
  {
   "cell_type": "markdown",
   "id": "5f938087",
   "metadata": {
    "slideshow": {
     "slide_type": "subslide"
    }
   },
   "source": [
    "### Moving Averages\n",
    "\n",
    "The simple averages use all the past values to forecast. But, what if the analyst is more concerned with recent observations?\n",
    "\n",
    "*Moving average* is a smoothing technique that a new mean is computed for the most recent observations, by adding the newest value and dropping the oldest.\n",
    "\n",
    "A moving average of order $k$, MA(k), is computed by\n",
    "\n",
    "\\begin{equation}\n",
    "\\hat{Y}_{t+1} = \\frac{1}{k} \\sum^{t}_{i=t-k+1} Y_{i} \\tag{7}\n",
    "\\end{equation}\n",
    "\n",
    "Please note that if you believe that the most recent (lag 1) data is relevant for the current value, this implies that the number of terms in the moving average is $k=1$. Therefore, the equation becomes equivalent to the naive method.\n",
    "\n",
    "\\begin{equation}\n",
    "\\hat{Y}_{t+1} = Y_{t}\n",
    "\\end{equation}\n",
    "\n",
    "**Features:**\n",
    "- The MA for time period $t$ is the arithmetic mean of the $k$ most recent observations.\n",
    "- In a moving average, equal weights are assigned to each observation.\n",
    "- The moving average technique deals only with the latest $k$ periods of known data.\n",
    "- The moving average model does not handle trend or seasonality very well, although it does better than the simple average method.\n",
    "\n",
    "**Caveat**\n",
    "- The analyst must choose the number of terms in the moving average, $k$. The smaller the number, the larger the weight given to recent periods.\n",
    "- A small number is most desirable when there are sudden shifts in the level of the series.\n",
    "- A large number is desirable when there are wide, infrequent fluctuations in the series.\n",
    "- For quarterly data,  a four-quarter moving average, MA(4), yields an average of the four quarters.\n",
    "- For monthly data, a 12-month moving average, MA(12), eliminates the seasonal effects."
   ]
  },
  {
   "cell_type": "code",
   "execution_count": null,
   "id": "4cd2dc78",
   "metadata": {
    "scrolled": true,
    "slideshow": {
     "slide_type": "fragment"
    }
   },
   "outputs": [],
   "source": [
    "gas['ma'] = gas.sales.rolling(5).mean().shift(1)\n",
    "gas['e_ma']  = gas.sales - gas.ma\n",
    "plt.plot(gas.loc[gas.index[:28],'sales'],'k-',label='init section')\n",
    "plt.plot(gas.loc[gas.index[27:30],'sales'],'k--',label='test section')\n",
    "plt.plot(gas.loc[gas.index[:29],'ma'],color='red',label='moving averages')\n",
    "plt.legend()\n",
    "plt.show()\n",
    "gas[28:]"
   ]
  },
  {
   "cell_type": "markdown",
   "id": "83fa408b",
   "metadata": {
    "slideshow": {
     "slide_type": "subslide"
    }
   },
   "source": [
    "### Double Moving Averages\n",
    "\n",
    "Although I mentioned that the moving average method doesn't handle trend well, one way of adding a linear trend is to use double moving averages. As the name implies, one set of moving averages is computed, and then a second set is computed as a moving average of the first set.\n",
    "\n",
    "**First MA:**\n",
    "\\begin{equation}\n",
    "M_t = \\hat{Y}_{t+1} = \\frac{1}{k} \\sum^{t}_{i=t-k+1} Y_{i}\n",
    "\\end{equation}\n",
    "\n",
    "**Second MA:**\n",
    "\\begin{equation}\n",
    "M'_t = \\frac{1}{k} \\sum^{t}_{i=t-k+1} M_{i}\n",
    "\\end{equation}\n",
    "\n",
    "Now, we add the difference between the single and the second moving averages to the single moving average, just like adding a trend to the naive method.\n",
    "\n",
    "\\begin{equation}\n",
    "a_t = M_{t} + (M_t - M'_t)\n",
    "\\end{equation}\n",
    "\n",
    "In addition, we can put an additional adjustment factor, which is similar to a slope measure that can change over the series.\n",
    "\\begin{equation}\n",
    "b_t = \\frac{2}{k-1}(M_t - M'_t)\n",
    "\\end{equation}\n",
    "\n",
    "Then, the equation that we use to make the forecast $p$ periods into the future\n",
    "\\begin{equation}\n",
    "\\hat{Y}_{t+p} = a_t + b_t p\n",
    "\\end{equation}\n",
    "\n"
   ]
  },
  {
   "cell_type": "code",
   "execution_count": null,
   "id": "7acf10c7",
   "metadata": {
    "scrolled": true,
    "slideshow": {
     "slide_type": "fragment"
    }
   },
   "outputs": [],
   "source": [
    "import pandas as pd\n",
    "import matplotlib.pyplot as plt\n",
    "vsale = pd.read_csv('https://raw.githubusercontent.com/dongyakoh/business_forecasting/main/data/video_sales.csv')\n",
    "vsale.columns = 'time', 'sales'\n",
    "plt.plot(vsale['sales'])\n",
    "plt.show()"
   ]
  },
  {
   "cell_type": "code",
   "execution_count": null,
   "id": "e6f5b448",
   "metadata": {
    "slideshow": {
     "slide_type": "fragment"
    }
   },
   "outputs": [],
   "source": [
    "k,p = 3,1\n",
    "vsale['ma1'] = vsale.sales.rolling(k).mean()\n",
    "vsale['ma2'] = vsale.ma1.rolling(k).mean()\n",
    "vsale['a'] = vsale.ma1 + (vsale.ma1 - vsale.ma2)\n",
    "vsale['b'] = 2/(k-1) * (vsale.ma1 - vsale.ma2)\n",
    "vsale['dbma'] = vsale.a.shift(1) + vsale.b.shift(1)*p\n",
    "vsale['e_dbma'] = vsale.sales - vsale.dbma\n",
    "plt.plot(vsale.loc[vsale.index,'sales'],'k-',label='data')\n",
    "plt.plot(vsale.loc[vsale.index,'dbma'],color='red',label='db moving averages')\n",
    "plt.legend()\n",
    "plt.show()\n",
    "\n",
    "vsale"
   ]
  }
 ],
 "metadata": {
  "celltoolbar": "Slideshow",
  "kernelspec": {
   "display_name": "Python 3 (ipykernel)",
   "language": "python",
   "name": "python3"
  },
  "language_info": {
   "codemirror_mode": {
    "name": "ipython",
    "version": 3
   },
   "file_extension": ".py",
   "mimetype": "text/x-python",
   "name": "python",
   "nbconvert_exporter": "python",
   "pygments_lexer": "ipython3",
   "version": "3.9.7"
  },
  "rise": {
   "enable_chalkboard": true,
   "header": "<h3><b>ECON4753 Forecasting</b></h3>",
   "height": "100%",
   "scroll": true,
   "width": "100%"
  }
 },
 "nbformat": 4,
 "nbformat_minor": 5
}
