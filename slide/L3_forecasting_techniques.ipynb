{
 "cells": [
  {
   "cell_type": "markdown",
   "id": "2dd6bebf",
   "metadata": {
    "slideshow": {
     "slide_type": "slide"
    }
   },
   "source": [
    "# Forecasting Techniques\n",
    "\n",
    "To select the appropriate forecasting technique, the forecaster must be able to accomplish the following:\n",
    "- Define the nature of  the forecasting problem.\n",
    "- Explain the nature of the data under investigation.\n",
    "- Describe the capabilities and limitations of potentially useful forecasting techniques.\n",
    "- Develop some predetermined criteria on which the selection decision can be made.\n",
    "\n",
    "Extrapolation involves making statistical forecasts by using historical trends that are projected for a specified period of time into the future. Therefore, it is important to understand historical patterns in the data."
   ]
  },
  {
   "cell_type": "code",
   "execution_count": 101,
   "id": "1a003b24",
   "metadata": {
    "slideshow": {
     "slide_type": "fragment"
    }
   },
   "outputs": [
    {
     "data": {
      "text/plain": [
       "<matplotlib.legend.Legend at 0x1d609614520>"
      ]
     },
     "execution_count": 101,
     "metadata": {},
     "output_type": "execute_result"
    },
    {
     "data": {
      "image/png": "[encoded data removed]",
      "text/plain": [
       "<Figure size 432x288 with 1 Axes>"
      ]
     },
     "metadata": {
      "needs_background": "light"
     },
     "output_type": "display_data"
    }
   ],
   "source": [
    "import numpy as np\n",
    "from scipy import interpolate\n",
    "\n",
    "x_true = np.arange(0,11,0.1)\n",
    "y_true = np.exp(-x_true/3.0)\n",
    "x_data = np.arange(0,10,1)\n",
    "y_data = np.exp(-x_data/3.0)\n",
    "\n",
    "f = interpolate.interp1d(x_data, y_data, fill_value='extrapolate')\n",
    "\n",
    "# Interpolating and exterpolating valus\n",
    "xi = np.arange(0.5,11,1)\n",
    " \n",
    "\n",
    "# Plot\n",
    "#plt.plot(x_data, y_data,'k-',label='data')\n",
    "plt.plot(x_true, y_true,'k-',label='true')\n",
    "plt.plot(xi[:9], yi[:9], 'ro',label='interpolated')\n",
    "plt.plot(xi[9:], yi[9:], 'bo',label='extrapolated')\n",
    "plt.legend(loc='upper right')\n"
   ]
  },
  {
   "cell_type": "code",
   "execution_count": 98,
   "id": "b8ba3074",
   "metadata": {
    "slideshow": {
     "slide_type": "fragment"
    }
   },
   "outputs": [
    {
     "data": {
      "text/plain": [
       "<matplotlib.legend.Legend at 0x1d6094c0df0>"
      ]
     },
     "execution_count": 98,
     "metadata": {},
     "output_type": "execute_result"
    },
    {
     "data": {
      "image/png": "[encoded data removed]",
      "text/plain": [
       "<Figure size 432x288 with 1 Axes>"
      ]
     },
     "metadata": {
      "needs_background": "light"
     },
     "output_type": "display_data"
    }
   ],
   "source": [
    "# Zoom in\n",
    "plt.plot(x_true[80:91], y_true[80:91],'k-',label='true')\n",
    "plt.plot(x_true[90:], y_true[90:],'k--')\n",
    "plt.plot(xi[8], yi[8], 'ro',label='interpolated')\n",
    "plt.plot(xi[9:], yi[9:], 'bo',label='extrapolated')\n",
    "plt.legend(loc='upper right')"
   ]
  },
  {
   "cell_type": "markdown",
   "id": "63bcab0b",
   "metadata": {
    "slideshow": {
     "slide_type": "subslide"
    }
   },
   "source": [
    "## Stationary Data\n",
    "\n",
    "- A ***stationary*** series was defined earlier as one whose mean value is not changing.\n",
    "- Stationary series can be autocorrelated, but the nature of the association is such that the data do not wander away from the mean for an extended period of time."
   ]
  },
  {
   "cell_type": "markdown",
   "id": "29f46176",
   "metadata": {
    "slideshow": {
     "slide_type": "fragment"
    }
   },
   "source": [
    "### Techniques for stationary series\n",
    "\n",
    "- naive methods\n",
    "- simple averaging methods\n",
    "- moving averages\n",
    "- autoregressive moving average (ARMA) models"
   ]
  },
  {
   "cell_type": "markdown",
   "id": "4eef819a",
   "metadata": {
    "slideshow": {
     "slide_type": "fragment"
    }
   },
   "source": [
    "### When do we use those techniques\n",
    "\n",
    "1. The forces generating a series have stabilized, and the environment in which the series exists is relatively unchanging. (e.g., the number of breaks down on an assembly line)\n",
    "1. A very simple model is needed because of a lack of data or for ease of explanation or implementation. (e.g., new business)\n",
    "1. Stability may be obtained by making simple corrections for factors such as population growth or inflation. (e.g., changing dollar sales)\n",
    "1. The series may be transformed into a stable one. (e.g., a detrended log GDP)\n",
    "1. The series is a set of forecast errors from a forecasting technique that is considered adequate. (e.g., forecast errors)"
   ]
  },
  {
   "cell_type": "markdown",
   "id": "e2258ca1",
   "metadata": {
    "slideshow": {
     "slide_type": "subslide"
    }
   },
   "source": [
    "## Data with a Trend\n",
    "\n",
    "A ***trend*** in a time series is a persistent, long-term growth or decline."
   ]
  },
  {
   "cell_type": "markdown",
   "id": "60bd5425",
   "metadata": {
    "slideshow": {
     "slide_type": "fragment"
    }
   },
   "source": [
    "### Techniques for trending series\n",
    "\n",
    "- moving averages\n",
    "- Holt's linear exponential smoothing\n",
    "- simple regression\n",
    "- growth curves\n",
    "- exponential models\n",
    "- autoregressive integrated moving average (ARIMA)"
   ]
  },
  {
   "cell_type": "markdown",
   "id": "af9fef72",
   "metadata": {
    "slideshow": {
     "slide_type": "fragment"
    }
   },
   "source": [
    "### When do we use those techniques\n",
    "\n",
    "1. Increased productivity and new technology lead to changes in lifestyle. (e.g., demands for electronic devices)\n",
    "1. Increasing population causes increases in demand for goods and services. (e.g., demand for energy consumption)\n",
    "1. The purchasing power of the dollar affects economic variables due to inflation. (e.g., salaries, production costs, prices)\n",
    "1. Market acceptance increases. (e.g., the growth stage of a new product)"
   ]
  },
  {
   "cell_type": "markdown",
   "id": "4f972f29",
   "metadata": {
    "slideshow": {
     "slide_type": "subslide"
    }
   },
   "source": [
    "## Seasonal Data\n",
    "\n",
    "A ***seasonal*** series was defined as a time series with a pattern of change that repeats itself year after year."
   ]
  },
  {
   "cell_type": "markdown",
   "id": "3dd6471e",
   "metadata": {
    "slideshow": {
     "slide_type": "fragment"
    }
   },
   "source": [
    "### Techniques for seasonal series\n",
    "\n",
    "- classical decomposition\n",
    "- Census X-12\n",
    "- Winter's exponential smoothing\n",
    "- multiple regression\n",
    "- ARIMA models"
   ]
  },
  {
   "cell_type": "markdown",
   "id": "19413ecc",
   "metadata": {
    "slideshow": {
     "slide_type": "fragment"
    }
   },
   "source": [
    "### When do we use those techniques\n",
    "\n",
    "1. Weather influences the variable of interest. (e.g., seasonal activities)\n",
    "1. The annual calendar influences the variable of interest. (e.g., retail sales by school calendars)"
   ]
  },
  {
   "cell_type": "markdown",
   "id": "09688abd",
   "metadata": {
    "slideshow": {
     "slide_type": "subslide"
    }
   },
   "source": [
    "## Cyclical Data\n",
    "\n",
    "A ***cyclical effect*** the wavelike fluctuation around the trend."
   ]
  },
  {
   "cell_type": "markdown",
   "id": "950c4ccc",
   "metadata": {
    "slideshow": {
     "slide_type": "fragment"
    }
   },
   "source": [
    "### Techniques for cyclical series\n",
    "\n",
    "- classical decomposition\n",
    "- economic indicators\n",
    "- econometric models\n",
    "- multiple regression\n",
    "- ARIMA models"
   ]
  },
  {
   "cell_type": "markdown",
   "id": "c7008ccd",
   "metadata": {
    "slideshow": {
     "slide_type": "fragment"
    }
   },
   "source": [
    "### When do we use those techniques\n",
    "\n",
    "1. The business cycle influences the variable of interest. (e.g., economic indicators, market factors)\n",
    "1. Shifts in popular tastes occur. (e.g., fashions, music)\n",
    "1. Shifts in population occur. (e.g., wars, natual disasters)\n",
    "1. Shifts in product life cycle occur. (e.g., lifecycle of a new product)"
   ]
  },
  {
   "cell_type": "markdown",
   "id": "db3d8855",
   "metadata": {
    "slideshow": {
     "slide_type": "slide"
    }
   },
   "source": [
    "# Measuring Forecast Error\n",
    "\n",
    "Each technique must be evaluated by\n",
    "  - its reliability and applicability\n",
    "  - its cost effectiveness and accuracy compared with competing techniques\n",
    "  - its acceptance by management"
   ]
  },
  {
   "cell_type": "markdown",
   "id": "d7b3bdfc",
   "metadata": {
    "slideshow": {
     "slide_type": "fragment"
    }
   },
   "source": [
    "- Mathmatical notations:\n",
    "  - $Y_t$: the value of a time series at time period $t$.\n",
    "  - $\\hat{Y}_t$: the forecast value of $Y_t$.\n",
    "  - $e_t = Y_t - \\hat{Y}_t$: the residual or forecast error.\n",
    "\n",
    "\n",
    "A ***residual*** is the difference between an actual observed value and its forecast value."
   ]
  },
  {
   "cell_type": "markdown",
   "id": "2f974534",
   "metadata": {
    "slideshow": {
     "slide_type": "subslide"
    }
   },
   "source": [
    "## Mean Absolute Deviation (MAD)\n",
    "\n",
    "- Measures forecast accuracy by averaging the magnitudes of the forecast errors.\n",
    "- The same units as the original series\n",
    "- Provides an average size of the \"miss\" regardless of direction.\n",
    "\n",
    "$MAD = \\frac{1}{n} \\sum_{t=1}^{n} |Y_t - \\hat{Y}_t|$\n"
   ]
  },
  {
   "cell_type": "markdown",
   "id": "da60c6d0",
   "metadata": {
    "slideshow": {
     "slide_type": "fragment"
    }
   },
   "source": [
    "## Mean Squared Error (MSE)\n",
    "\n",
    "- Each error or residual is squared, summed, and divided by the number of observations.\n",
    "- This approach penalizes large forecasting errors, since the errors are squared.\n",
    "- A technique that produces moderate errors may well be prefereable to one that usually has small errors but occasionally yields extremely large one.\n",
    "\n",
    "$MAD = \\frac{1}{n} \\sum_{t=1}^{n} (Y_t - \\hat{Y}_t)^2$"
   ]
  },
  {
   "cell_type": "markdown",
   "id": "d82e8c15",
   "metadata": {
    "slideshow": {
     "slide_type": "fragment"
    }
   },
   "source": [
    "## Root Mean Squared Error (RMSE)\n",
    "\n",
    "- Same idea as MSE that penalizes large errors.\n",
    "- But, RMSE has the same unit as the series being forecast so its magnitude is more easily interpreted.\n",
    "\n",
    "$RMSE = \\sqrt{\\frac{1}{n} \\sum_{t=1}^{n} (Y_t - \\hat{Y}_t)^2}$"
   ]
  },
  {
   "cell_type": "markdown",
   "id": "bd0583ac",
   "metadata": {
    "slideshow": {
     "slide_type": "fragment"
    }
   },
   "source": [
    "## Mean Absolute Percentage Error (MAPE)\n",
    "\n",
    "- Sometimes it is more useful to compute the forecast errors in terms of percentages rather than amounts.\n",
    "- MAPE is computed by finding the absolute error in each period, dividing this by the actual observed value for that period, and averaging these absolute percentage errors.\n",
    "- The final result is then multiplied by 100 and expressed as a percentage.\n",
    "- MAPE is useful when the $Y_t$ values are large, but cannot be used if any of the $Y_t$ are zero.\n",
    "\n",
    "$MAPE = \\frac{1}{n} \\sum_{t=1}^{n} \\frac{|Y_t - \\hat{Y}_t|}{|Y_t|}$"
   ]
  },
  {
   "cell_type": "markdown",
   "id": "4d336af3",
   "metadata": {
    "slideshow": {
     "slide_type": "fragment"
    }
   },
   "source": [
    "## Mean Percentage Error (MPE)\n",
    "\n",
    "- Sometimes it is necessary to determine whether a forecasting method is biased (consistently forecasting low or high).\n",
    "- If the forecasting approach is unbiased, the MPE will produce a number that is close to zero.\n",
    "- If the result is a large negative percentage, the forecasting method is consistently overestimating.\n",
    "\n",
    "$MPE = \\frac{1}{n} \\sum_{t=1}^{n} \\frac{(Y_t - \\hat{Y}_t)}{Y_t}$"
   ]
  },
  {
   "cell_type": "markdown",
   "id": "f778695d",
   "metadata": {
    "slideshow": {
     "slide_type": "fragment"
    }
   },
   "source": [
    "### Example\n",
    "\n",
    "| Time $t$ | Customers $Y_t$ | Forecast $\\hat{Y}_t$ | Error $e_t$ | AD | SE | APE | PE |\n",
    "| --- | --- | --- | --- | --- | --- | --- | --- |\n",
    "| 1 | 58 |  |  |  |  |  |  |\n",
    "| 2 | 54 | 58 | -4 | 4 | 16 | .074 | -.074 | \n",
    "| 3 | 60 | 54 | 6 | 6 | 36 | .100 | .100  |\n",
    "| 4 | 55 | 60 | -5 | 5 | 25 | .091 | -.091 | \n",
    "| 5 | 62 | 55 | 7 | 7 | 49 | .113 | .113  |\n",
    "| 6 | 62 | 62 | 0 | 0 | 0 | .000 | .000  |\n",
    "| 7 | 65 | 62 | 3 | 3 | 9 | .046 | .046  |\n",
    "| 8 | 63 | 65 | -2 | 2 | 4 | .032 | -.032 |\n",
    "| 9 | 70 | 63 | 7 | 7 | 49 | .100 | .100  |\n",
    "|   |    | Totals | 12 | 34 | 188 | .556 | .162 |\n",
    "|   |    | Means | 1.5 | 4.25 | 23.5 | .0695 | .02025 |\n",
    "\n",
    "\n",
    "\n"
   ]
  }
 ],
 "metadata": {
  "celltoolbar": "Slideshow",
  "kernelspec": {
   "display_name": "Python 3 (ipykernel)",
   "language": "python",
   "name": "python3"
  },
  "language_info": {
   "codemirror_mode": {
    "name": "ipython",
    "version": 3
   },
   "file_extension": ".py",
   "mimetype": "text/x-python",
   "name": "python",
   "nbconvert_exporter": "python",
   "pygments_lexer": "ipython3",
   "version": "3.9.7"
  },
  "rise": {
   "enable_chalkboard": true,
   "header": "<h3><b>ECON4753 Forecasting</b></h3>",
   "height": "100%",
   "scroll": true,
   "width": "100%"
  }
 },
 "nbformat": 4,
 "nbformat_minor": 5
}
