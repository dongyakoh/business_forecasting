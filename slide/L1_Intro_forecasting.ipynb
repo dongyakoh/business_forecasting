{
 "cells": [
  {
   "cell_type": "markdown",
   "id": "556446c0",
   "metadata": {
    "slideshow": {
     "slide_type": "slide"
    }
   },
   "source": [
    "# Introduction to Forecasting\n",
    "  - What is forecasting?\n",
    "  - Why is forecasting important?\n",
    "  - Types of forecasts\n",
    "  - Forecasting steps"
   ]
  },
  {
   "cell_type": "markdown",
   "id": "77025159",
   "metadata": {
    "slideshow": {
     "slide_type": "slide"
    }
   },
   "source": [
    "# What is forecasting?"
   ]
  },
  {
   "cell_type": "markdown",
   "id": "ba6cef94",
   "metadata": {
    "slideshow": {
     "slide_type": "fragment"
    }
   },
   "source": [
    "- A forecast is a prediction made by studying past and present data."
   ]
  },
  {
   "cell_type": "markdown",
   "id": "b2ce776d",
   "metadata": {
    "slideshow": {
     "slide_type": "fragment"
    }
   },
   "source": [
    "- The purpose of a forecast is to reduce the range of uncertainty within which management judgements must be made.\n",
    "  - seasonality\n",
    "  - sudden changes in demand levels\n",
    "  - price-cutting maneuvers of the competition\n",
    "  - strikes\n",
    "  - large swings of the economy"
   ]
  },
  {
   "cell_type": "markdown",
   "id": "b3e2f6a6",
   "metadata": {
    "slideshow": {
     "slide_type": "slide"
    }
   },
   "source": [
    "# Why is forecasting important?"
   ]
  },
  {
   "cell_type": "markdown",
   "id": "03037236",
   "metadata": {
    "slideshow": {
     "slide_type": "fragment"
    }
   },
   "source": [
    "1. It helps your business to plan for the future.\n",
    "2. It can inform business decisions.\n",
    "3. It prevents tax bill surprises."
   ]
  },
  {
   "cell_type": "markdown",
   "id": "be884bed",
   "metadata": {
    "slideshow": {
     "slide_type": "subslide"
    }
   },
   "source": [
    "## Examples of Forecasting\n",
    "\n",
    "- Weather forecast\n",
    "- Which MLB team will win the 2022 World Series?\n",
    "- What will be the future monthly sales of a new laptop?\n",
    "- What will the inflation rate be in the next month?"
   ]
  },
  {
   "cell_type": "markdown",
   "id": "5b7b5d85",
   "metadata": {
    "slideshow": {
     "slide_type": "slide"
    }
   },
   "source": [
    "## Which forecast would make a better prediction about the future?\n",
    "\n",
    "1. Data-based methods with an appropriate forecasting model\n",
    "2. Hunch based on past experience\n",
    "3. Horoscope, tarot, and fortune-telling"
   ]
  },
  {
   "cell_type": "markdown",
   "id": "70e397f4",
   "metadata": {
    "slideshow": {
     "slide_type": "slide"
    }
   },
   "source": [
    "# Types of forecasts"
   ]
  },
  {
   "cell_type": "markdown",
   "id": "7bb19aaf",
   "metadata": {
    "slideshow": {
     "slide_type": "fragment"
    }
   },
   "source": [
    "1. Qualitative Forecasting vs. Quantitative Forecasting\n",
    "2. Short-term vs. Long-term Forecasts\n",
    "3. Micro vs. Macro Forecasts\n",
    "4. Point/Interval/Density Forecasts"
   ]
  },
  {
   "cell_type": "markdown",
   "id": "9948680b",
   "metadata": {
    "slideshow": {
     "slide_type": "slide"
    }
   },
   "source": [
    "# Forecasting steps"
   ]
  },
  {
   "cell_type": "markdown",
   "id": "75da9306",
   "metadata": {
    "slideshow": {
     "slide_type": "fragment"
    }
   },
   "source": [
    "1. Problem formulation and data collection\n",
    "2. Data manipulation and cleaning\n",
    "3. Model building and evaluation\n",
    "4. Model implementation (the actual forecast)\n",
    "5. Forecast evaluation"
   ]
  }
 ],
 "metadata": {
  "celltoolbar": "Slideshow",
  "kernelspec": {
   "display_name": "Python 3 (ipykernel)",
   "language": "python",
   "name": "python3"
  },
  "language_info": {
   "codemirror_mode": {
    "name": "ipython",
    "version": 3
   },
   "file_extension": ".py",
   "mimetype": "text/x-python",
   "name": "python",
   "nbconvert_exporter": "python",
   "pygments_lexer": "ipython3",
   "version": "3.7.4"
  },
  "rise": {
   "enable_chalkboard": true,
   "header": "<h3><b>ECON4753 Forecasting</b></h3>",
   "height": "100%",
   "width": "100%"
  }
 },
 "nbformat": 4,
 "nbformat_minor": 5
}
